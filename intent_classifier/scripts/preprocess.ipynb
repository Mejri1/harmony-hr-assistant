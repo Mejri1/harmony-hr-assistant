{
 "cells": [
  {
   "cell_type": "code",
   "execution_count": 12,
   "id": "5db22b72",
   "metadata": {},
   "outputs": [],
   "source": [
    "import json\n",
    "import os\n",
    "import random\n",
    "from sklearn.model_selection import train_test_split\n",
    "from sklearn.preprocessing import LabelEncoder\n",
    "import pandas as pd\n",
    "\n",
    "# Constants\n",
    "DATA_PATH = \"../data/intent_classifier_dataset.json\"\n",
    "SAVE_DIR = \"../data/\"\n",
    "TEST_SIZE = 0.2\n",
    "RANDOM_SEED = 42\n"
   ]
  },
  {
   "cell_type": "code",
   "execution_count": 13,
   "id": "d6920fe0",
   "metadata": {},
   "outputs": [
    {
     "name": "stdout",
     "output_type": "stream",
     "text": [
      "Loaded 1238 samples\n"
     ]
    }
   ],
   "source": [
    "def load_dataset(path):\n",
    "    with open(path, \"r\", encoding=\"utf-8\") as f:\n",
    "        data = json.load(f)\n",
    "    return data\n",
    "\n",
    "# 🔄 Load dataset\n",
    "data = load_dataset(DATA_PATH)\n",
    "print(f\"Loaded {len(data)} samples\")\n"
   ]
  },
  {
   "cell_type": "code",
   "execution_count": 14,
   "id": "7a991a2a",
   "metadata": {},
   "outputs": [
    {
     "data": {
      "text/html": [
       "<div>\n",
       "<style scoped>\n",
       "    .dataframe tbody tr th:only-of-type {\n",
       "        vertical-align: middle;\n",
       "    }\n",
       "\n",
       "    .dataframe tbody tr th {\n",
       "        vertical-align: top;\n",
       "    }\n",
       "\n",
       "    .dataframe thead th {\n",
       "        text-align: right;\n",
       "    }\n",
       "</style>\n",
       "<table border=\"1\" class=\"dataframe\">\n",
       "  <thead>\n",
       "    <tr style=\"text-align: right;\">\n",
       "      <th></th>\n",
       "      <th>text</th>\n",
       "      <th>label</th>\n",
       "    </tr>\n",
       "  </thead>\n",
       "  <tbody>\n",
       "    <tr>\n",
       "      <th>0</th>\n",
       "      <td>What is the process for requesting maternity l...</td>\n",
       "      <td>needs_rag</td>\n",
       "    </tr>\n",
       "    <tr>\n",
       "      <th>1</th>\n",
       "      <td>Can you explain the reimbursement policy for t...</td>\n",
       "      <td>needs_rag</td>\n",
       "    </tr>\n",
       "    <tr>\n",
       "      <th>2</th>\n",
       "      <td>How do I access my employee benefits information?</td>\n",
       "      <td>needs_rag</td>\n",
       "    </tr>\n",
       "    <tr>\n",
       "      <th>3</th>\n",
       "      <td>Are there any guidelines for remote work durin...</td>\n",
       "      <td>needs_rag</td>\n",
       "    </tr>\n",
       "    <tr>\n",
       "      <th>4</th>\n",
       "      <td>What are the criteria for the annual performan...</td>\n",
       "      <td>needs_rag</td>\n",
       "    </tr>\n",
       "  </tbody>\n",
       "</table>\n",
       "</div>"
      ],
      "text/plain": [
       "                                                text      label\n",
       "0  What is the process for requesting maternity l...  needs_rag\n",
       "1  Can you explain the reimbursement policy for t...  needs_rag\n",
       "2  How do I access my employee benefits information?  needs_rag\n",
       "3  Are there any guidelines for remote work durin...  needs_rag\n",
       "4  What are the criteria for the annual performan...  needs_rag"
      ]
     },
     "execution_count": 14,
     "metadata": {},
     "output_type": "execute_result"
    }
   ],
   "source": [
    "def to_dataframe(data):\n",
    "    return pd.DataFrame(data)\n",
    "\n",
    "df = to_dataframe(data)\n",
    "df.head()\n"
   ]
  },
  {
   "cell_type": "code",
   "execution_count": 15,
   "id": "42050966",
   "metadata": {},
   "outputs": [
    {
     "data": {
      "text/html": [
       "<div>\n",
       "<style scoped>\n",
       "    .dataframe tbody tr th:only-of-type {\n",
       "        vertical-align: middle;\n",
       "    }\n",
       "\n",
       "    .dataframe tbody tr th {\n",
       "        vertical-align: top;\n",
       "    }\n",
       "\n",
       "    .dataframe thead th {\n",
       "        text-align: right;\n",
       "    }\n",
       "</style>\n",
       "<table border=\"1\" class=\"dataframe\">\n",
       "  <thead>\n",
       "    <tr style=\"text-align: right;\">\n",
       "      <th></th>\n",
       "      <th>text</th>\n",
       "      <th>label</th>\n",
       "      <th>label_id</th>\n",
       "    </tr>\n",
       "  </thead>\n",
       "  <tbody>\n",
       "    <tr>\n",
       "      <th>0</th>\n",
       "      <td>What is the process for requesting maternity l...</td>\n",
       "      <td>needs_rag</td>\n",
       "      <td>0</td>\n",
       "    </tr>\n",
       "    <tr>\n",
       "      <th>1</th>\n",
       "      <td>Can you explain the reimbursement policy for t...</td>\n",
       "      <td>needs_rag</td>\n",
       "      <td>0</td>\n",
       "    </tr>\n",
       "    <tr>\n",
       "      <th>2</th>\n",
       "      <td>How do I access my employee benefits information?</td>\n",
       "      <td>needs_rag</td>\n",
       "      <td>0</td>\n",
       "    </tr>\n",
       "    <tr>\n",
       "      <th>3</th>\n",
       "      <td>Are there any guidelines for remote work durin...</td>\n",
       "      <td>needs_rag</td>\n",
       "      <td>0</td>\n",
       "    </tr>\n",
       "    <tr>\n",
       "      <th>4</th>\n",
       "      <td>What are the criteria for the annual performan...</td>\n",
       "      <td>needs_rag</td>\n",
       "      <td>0</td>\n",
       "    </tr>\n",
       "  </tbody>\n",
       "</table>\n",
       "</div>"
      ],
      "text/plain": [
       "                                                text      label  label_id\n",
       "0  What is the process for requesting maternity l...  needs_rag         0\n",
       "1  Can you explain the reimbursement policy for t...  needs_rag         0\n",
       "2  How do I access my employee benefits information?  needs_rag         0\n",
       "3  Are there any guidelines for remote work durin...  needs_rag         0\n",
       "4  What are the criteria for the annual performan...  needs_rag         0"
      ]
     },
     "execution_count": 15,
     "metadata": {},
     "output_type": "execute_result"
    }
   ],
   "source": [
    "def encode_labels(df):\n",
    "    encoder = LabelEncoder()\n",
    "    df[\"label_id\"] = encoder.fit_transform(df[\"label\"])\n",
    "    return df, encoder\n",
    "\n",
    "df, encoder = encode_labels(df)\n",
    "df.head()\n"
   ]
  },
  {
   "cell_type": "code",
   "execution_count": 16,
   "id": "05e3ef4b",
   "metadata": {},
   "outputs": [
    {
     "name": "stdout",
     "output_type": "stream",
     "text": [
      "Train: 990, Test: 248\n",
      "Train: 990, Test: 248\n"
     ]
    }
   ],
   "source": [
    "def split_dataset(df, test_size=0.2):\n",
    "    return train_test_split(df, test_size=test_size, stratify=df[\"label_id\"], random_state=RANDOM_SEED)\n",
    "\n",
    "train_df, test_df = split_dataset(df, test_size=TEST_SIZE)\n",
    "print(f\"Train: {len(train_df)}, Test: {len(test_df)}\")\n",
    "def split_dataset(df, test_size=0.2):\n",
    "    return train_test_split(df, test_size=test_size, stratify=df[\"label_id\"], random_state=RANDOM_SEED)\n",
    "\n",
    "train_df, test_df = split_dataset(df, test_size=TEST_SIZE)\n",
    "print(f\"Train: {len(train_df)}, Test: {len(test_df)}\")\n"
   ]
  },
  {
   "cell_type": "code",
   "execution_count": 17,
   "id": "ac42178b",
   "metadata": {},
   "outputs": [
    {
     "name": "stdout",
     "output_type": "stream",
     "text": [
      "✅ Train and Test splits saved.\n"
     ]
    }
   ],
   "source": [
    "def save_to_json(df, path):\n",
    "    records = df[[\"text\", \"label\", \"label_id\"]].to_dict(orient=\"records\")\n",
    "    with open(path, \"w\", encoding=\"utf-8\") as f:\n",
    "        json.dump(records, f, indent=2, ensure_ascii=False)\n",
    "\n",
    "save_to_json(train_df, os.path.join(SAVE_DIR, \"train_split.json\"))\n",
    "save_to_json(test_df, os.path.join(SAVE_DIR, \"test_split.json\"))\n",
    "print(\"✅ Train and Test splits saved.\")\n"
   ]
  },
  {
   "cell_type": "code",
   "execution_count": 18,
   "id": "40d92e86",
   "metadata": {},
   "outputs": [
    {
     "name": "stdout",
     "output_type": "stream",
     "text": [
      "📌 Label mapping saved.\n"
     ]
    }
   ],
   "source": [
    "def save_label_mapping(encoder, path=\"../data/label_mapping.json\"):\n",
    "    mapping = {\n",
    "        str(cls): int(idx) for cls, idx in zip(encoder.classes_, encoder.transform(encoder.classes_))\n",
    "    }\n",
    "    with open(path, \"w\", encoding=\"utf-8\") as f:\n",
    "        json.dump(mapping, f, indent=2)\n",
    "\n",
    "\n",
    "save_label_mapping(encoder)\n",
    "print(\"📌 Label mapping saved.\")\n"
   ]
  }
 ],
 "metadata": {
  "kernelspec": {
   "display_name": "venv",
   "language": "python",
   "name": "python3"
  },
  "language_info": {
   "codemirror_mode": {
    "name": "ipython",
    "version": 3
   },
   "file_extension": ".py",
   "mimetype": "text/x-python",
   "name": "python",
   "nbconvert_exporter": "python",
   "pygments_lexer": "ipython3",
   "version": "3.12.6"
  }
 },
 "nbformat": 4,
 "nbformat_minor": 5
}
